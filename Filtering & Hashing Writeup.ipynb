{
 "cells": [
  {
   "cell_type": "markdown",
   "metadata": {},
   "source": [
    "# The Problem\n",
    "\n",
    "- In the IntelliBroad project I'm trying to determine similarity between events based on their attendees.\n",
    "- I will be using the [Jaccard Index](https://en.wikipedia.org/wiki/Jaccard_index) as a metric, this is defined by the size of the intersection divided by the size of the union of the two sample sets.\n",
    "$$ J(A,B) = \\frac{|A \\cap B|}{|A \\cup B|} $$\n",
    "- Problem: There are over **100,000** events in the IntelliBroad database, meaning I will be conducting on the order of $ 10^{10} $ non-trivial operations "
   ]
  },
  {
   "cell_type": "markdown",
   "metadata": {
    "collapsed": true
   },
   "source": [
    "# The Solution\n",
    "- Given that there are so many people in the Broad, people rarely meet everyone, and any given event will probably share 0 attendees with most other events.\n",
    "    - Why go through the trouble of calculating Jaccard for two events with no matching attendees? It would return 0!\n",
    "    - So what's a quick way to check if two events don't share any attendees?\n",
    "- The answer: pre-computing a **hash** for each event, which encodes information about the attendees\n",
    "    - A hash is just a number, and comparing two event's hashes bitwise is much faster than doing the entire Jaccard calculation.\n",
    "    - We can imagine a hash looking like something below, where an employee is assigned to a position in the bitstring and attendance is shown by the bit value.\n",
    "\n",
    "|Employee ID|1|2|3|4|5|6|\n",
    "|--|-|-|-|-|-|-|\n",
    "|**Present?**|0|1|1|0|0|1|\n",
    "\n",
    "- So we want to construct this hash somehow!\n",
    "    - But we do NOT want to have a gigantic bitstring containing each invididual employee's position. We must compress!\n",
    "    - We want to **fold** the bitstring, by dividing it into 32-bit chunks.\n"
   ]
  },
  {
   "cell_type": "code",
   "execution_count": null,
   "metadata": {
    "collapsed": true
   },
   "outputs": [],
   "source": []
  },
  {
   "cell_type": "code",
   "execution_count": null,
   "metadata": {
    "collapsed": true
   },
   "outputs": [],
   "source": []
  },
  {
   "cell_type": "code",
   "execution_count": null,
   "metadata": {
    "collapsed": true
   },
   "outputs": [],
   "source": []
  }
 ],
 "metadata": {
  "kernelspec": {
   "display_name": "Python 2",
   "language": "python",
   "name": "python2"
  },
  "language_info": {
   "codemirror_mode": {
    "name": "ipython",
    "version": 2
   },
   "file_extension": ".py",
   "mimetype": "text/x-python",
   "name": "python",
   "nbconvert_exporter": "python",
   "pygments_lexer": "ipython2",
   "version": "2.7.11"
  }
 },
 "nbformat": 4,
 "nbformat_minor": 0
}
